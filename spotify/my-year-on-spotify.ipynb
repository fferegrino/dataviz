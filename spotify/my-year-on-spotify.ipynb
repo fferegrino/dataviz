{
 "cells": [
  {
   "cell_type": "code",
   "execution_count": null,
   "metadata": {},
   "outputs": [],
   "source": [
    "import pandas as pd\n",
    "import numpy as np\n",
    "import matplotlib.pyplot as plt\n",
    "import seaborn as sns\n",
    "import calendar\n",
    "\n",
    "from data import read_history"
   ]
  },
  {
   "cell_type": "code",
   "execution_count": null,
   "metadata": {},
   "outputs": [],
   "source": [
    "streaming_history = read_history()\n",
    "print(len(streaming_history))\n",
    "streaming_history.head()"
   ]
  },
  {
   "cell_type": "code",
   "execution_count": null,
   "metadata": {},
   "outputs": [],
   "source": [
    "streaming_history[\"date\"] = streaming_history[\"endTime\"].dt.floor('d')\n",
    "by_date = streaming_history.groupby(\"date\").count()\n",
    "by_date = by_date.sort_index()\n",
    "by_date[\"weekday\"] = by_date.index.weekday\n",
    "by_date[\"week\"] = by_date.index.week\n",
    "by_date.head()"
   ]
  },
  {
   "cell_type": "code",
   "execution_count": null,
   "metadata": {},
   "outputs": [],
   "source": [
    "week = 0\n",
    "prev_week = by_date.iloc[0][\"week\"]\n",
    "continuous_week = np.zeros(len(by_date)).astype(int)\n",
    "sunday_dates = []\n",
    "for i, (index, row) in enumerate(by_date.iterrows()):\n",
    "    if row[\"week\"] != prev_week:\n",
    "        week += 1\n",
    "        prev_week = row[\"week\"]\n",
    "    continuous_week[i] = week\n",
    "by_date[\"continuous_week\"] = continuous_week \n",
    "by_date.head()"
   ]
  },
  {
   "cell_type": "markdown",
   "metadata": {},
   "source": [
    "## Transform into a heat-map like matrix"
   ]
  },
  {
   "cell_type": "code",
   "execution_count": null,
   "metadata": {},
   "outputs": [],
   "source": [
    "songs = np.full((7, continuous_week.max()+1), np.nan)\n",
    "for index, row in by_date.iterrows():\n",
    "    songs[row[\"weekday\"]][row[\"continuous_week\"]] = row[\"trackName\"]"
   ]
  },
  {
   "cell_type": "code",
   "execution_count": null,
   "metadata": {},
   "outputs": [],
   "source": [
    "from datetime import timedelta\n",
    "\n",
    "def get_monday(dt):\n",
    "    prev_mon = dt - timedelta(dt.weekday())\n",
    "    return prev_mon\n",
    "\n",
    "previous_date = get_monday(streaming_history[\"endTime\"].min())\n",
    "previous_abbr = calendar.month_abbr[previous_date.month]\n",
    "x_headers = [previous_abbr]\n",
    "for i in range(continuous_week.max()):\n",
    "    new_date = get_monday(streaming_history[\"endTime\"].min() + timedelta(weeks=int(i)))\n",
    "    new_abbr = calendar.month_abbr[new_date.month]\n",
    "    if new_abbr != previous_abbr:\n",
    "        previous_abbr = new_abbr\n",
    "        x_headers.append(new_abbr)\n",
    "    else:\n",
    "        x_headers.append(\"\")"
   ]
  },
  {
   "cell_type": "code",
   "execution_count": null,
   "metadata": {},
   "outputs": [],
   "source": [
    "fig = plt.figure(figsize=(20,5))\n",
    "ax = plt.subplot()\n",
    "mask = np.isnan(songs)\n",
    "sns.heatmap(songs, ax = ax, linewidths=2, \n",
    "            linecolor='white', mask=mask, cmap=\"Greens\", \n",
    "            square=True, vmin=0, vmax=by_date[\"endTime\"].max(), cbar=False)\n",
    "y_desc = [\"Mon\", \"\", \"Wed\", \"\", \"Fri\", \"\", \"Sun\"]\n",
    "ax.set_yticklabels(y_desc, rotation=0)\n",
    "ax.set_xticklabels(x_headers, ha=\"left\")\n",
    "ax.set_facecolor(\"#ebedf0\")\n",
    "ax.xaxis.tick_top()\n",
    "ax.set_title(\"My year on Spotify\", fontsize=20,pad=40)\n",
    "ax.tick_params(axis='both', which='both',length=0)\n",
    "fig.patch.set_facecolor('white')"
   ]
  },
  {
   "cell_type": "code",
   "execution_count": null,
   "metadata": {},
   "outputs": [],
   "source": []
  }
 ],
 "metadata": {
  "kernelspec": {
   "display_name": "Python 3",
   "language": "python",
   "name": "python3"
  },
  "language_info": {
   "codemirror_mode": {
    "name": "ipython",
    "version": 3
   },
   "file_extension": ".py",
   "mimetype": "text/x-python",
   "name": "python",
   "nbconvert_exporter": "python",
   "pygments_lexer": "ipython3",
   "version": "3.6.9"
  }
 },
 "nbformat": 4,
 "nbformat_minor": 4
}

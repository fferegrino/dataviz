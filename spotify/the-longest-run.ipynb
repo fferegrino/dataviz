{
 "cells": [
  {
   "cell_type": "code",
   "execution_count": null,
   "metadata": {},
   "outputs": [],
   "source": [
    "from data import read_history\n",
    "import pandas as pd\n",
    "import matplotlib.pyplot as plt\n",
    "import seaborn as sns"
   ]
  },
  {
   "cell_type": "code",
   "execution_count": null,
   "metadata": {},
   "outputs": [],
   "source": [
    "streaming_history = read_history()\n",
    "print(len(streaming_history))\n",
    "streaming_history[\"secPlayed\"] = streaming_history[\"msPlayed\"] / 1000\n",
    "streaming_history = streaming_history.query(\"secPlayed > 60\")"
   ]
  },
  {
   "cell_type": "code",
   "execution_count": null,
   "metadata": {},
   "outputs": [],
   "source": [
    "runs = [{\n",
    "    \"artist\": streaming_history.iloc[0][\"artistName\"], \n",
    "    \"endFirstSong\": streaming_history.iloc[0][\"endTime\"], \n",
    "    \"ms\": streaming_history.iloc[0][\"msPlayed\"],\n",
    "    \"songs\": 1}]\n",
    "for i, history in streaming_history.iloc[1:].iterrows():\n",
    "    if history[\"artistName\"] == runs[-1][\"artist\"]:\n",
    "        runs[-1][\"ms\"] += history[\"msPlayed\"]\n",
    "        runs[-1][\"songs\"] += 1\n",
    "    else:\n",
    "        runs.append({\n",
    "            \"artist\": history[\"artistName\"], \n",
    "            \"endFirstSong\": history[\"endTime\"], \n",
    "            \"ms\": history[\"msPlayed\"],\n",
    "        \"songs\":1})\n",
    "        "
   ]
  },
  {
   "cell_type": "code",
   "execution_count": null,
   "metadata": {
    "scrolled": false
   },
   "outputs": [],
   "source": [
    "runs_df = pd.DataFrame(runs).sort_values(by=\"ms\", ascending=False)\n",
    "runs_df[\"mins\"] = runs_df[\"ms\"] / (1000 * 60)\n",
    "runs_df.head(10)"
   ]
  },
  {
   "cell_type": "code",
   "execution_count": null,
   "metadata": {},
   "outputs": [],
   "source": [
    "top_x = runs_df.head(10)\n",
    "top_x.index = list(reversed(range(len(top_x))))\n",
    "\n",
    "fig = plt.figure(figsize=(10,15))\n",
    "ax = plt.subplot()\n",
    "ax.hlines(y=top_x.index, xmin=0,  xmax=top_x[\"mins\"], linewidths=10, color=\"#1DB954\")\n",
    "ax.scatter(top_x[\"mins\"], top_x.index, color=\"#1DB954\", s=500, alpha=0.5)\n",
    "ax.scatter(top_x[\"mins\"], top_x.index, color=\"#1DB954\", s=200)\n",
    "\n",
    "for i, row in top_x.iterrows():\n",
    "    offset = 10\n",
    "    text = ax.text(row[\"mins\"] + offset, i, row[\"artist\"], fontsize=17, color=\"#F8F8F8\")\n",
    "    ax.text(row[\"mins\"] + offset, i-0.15, f\"{row['mins']:0.2f} minutes\", fontsize=12, color=\"#DEDEDE\")\n",
    "\n",
    "ax.set_xlim(0, top_x[\"mins\"].max() * 1.5)\n",
    "ax.set_facecolor(\"#121212\")\n",
    "ax.set_yticklabels([])\n",
    "ax.set_xticklabels([])"
   ]
  },
  {
   "cell_type": "code",
   "execution_count": null,
   "metadata": {},
   "outputs": [],
   "source": []
  }
 ],
 "metadata": {
  "kernelspec": {
   "display_name": "Python 3",
   "language": "python",
   "name": "python3"
  },
  "language_info": {
   "codemirror_mode": {
    "name": "ipython",
    "version": 3
   },
   "file_extension": ".py",
   "mimetype": "text/x-python",
   "name": "python",
   "nbconvert_exporter": "python",
   "pygments_lexer": "ipython3",
   "version": "3.6.9"
  }
 },
 "nbformat": 4,
 "nbformat_minor": 2
}
